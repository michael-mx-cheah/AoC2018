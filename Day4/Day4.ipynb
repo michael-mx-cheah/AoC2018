{
 "cells": [
  {
   "cell_type": "code",
   "execution_count": 1,
   "metadata": {},
   "outputs": [],
   "source": [
    "with open(\"input.txt\", \"r\") as f:\n",
    "    logs = [l.strip() for l in f]"
   ]
  },
  {
   "cell_type": "code",
   "execution_count": 2,
   "metadata": {},
   "outputs": [
    {
     "data": {
      "text/plain": [
       "['[1518-10-03 00:47] falls asleep',\n",
       " '[1518-07-26 23:50] Guard #487 begins shift',\n",
       " '[1518-06-22 00:48] wakes up',\n",
       " '[1518-08-21 00:30] falls asleep',\n",
       " '[1518-11-21 00:55] wakes up',\n",
       " '[1518-05-30 00:06] falls asleep',\n",
       " '[1518-04-09 00:44] wakes up',\n",
       " '[1518-07-22 00:58] wakes up',\n",
       " '[1518-06-15 00:57] wakes up',\n",
       " '[1518-09-13 00:31] wakes up']"
      ]
     },
     "execution_count": 2,
     "metadata": {},
     "output_type": "execute_result"
    }
   ],
   "source": [
    "logs[:10]"
   ]
  },
  {
   "cell_type": "code",
   "execution_count": 3,
   "metadata": {},
   "outputs": [
    {
     "name": "stdout",
     "output_type": "stream",
     "text": [
      "[1518-09-29 00:55] wakes\n",
      "['09', '29', '00', '55']\n",
      "[1518-09-13 00:35] falls\n",
      "['09', '13', '00', '35']\n",
      "[1518-03-24 00:55] wakes\n",
      "['03', '24', '00', '55']\n",
      "[1518-08-29 23:50] Guard #2179 begins\n",
      "['08', '29', '23', '50']\n",
      "[1518-09-08 23:56] Guard #2833 begins\n",
      "['09', '08', '23', '56']\n"
     ]
    }
   ],
   "source": [
    "# Parse the damn logs and randomly check\n",
    "import pandas as pd\n",
    "import numpy as np\n",
    "\n",
    "months = [l.split('-')[1] for l in logs]\n",
    "days = [l.split('-')[2].split(' ')[0] for l in logs]\n",
    "hours = [l.split(':')[0].split(' ')[1] for l in logs]\n",
    "minutes = [l.split(':')[1].split(']')[0] for l in logs]\n",
    "\n",
    "for i in np.random.choice(range(len(logs)), 5, replace=False):\n",
    "    print logs[i].rsplit(' ', 1)[0]\n",
    "    params = []\n",
    "    for param in [months, days, hours, minutes]:\n",
    "        params.append(param[i])\n",
    "    print params "
   ]
  },
  {
   "cell_type": "code",
   "execution_count": 4,
   "metadata": {},
   "outputs": [
    {
     "name": "stdout",
     "output_type": "stream",
     "text": [
      "[1518-08-07 23:47] Guard #659 begins shift\n",
      "1518-08-07 23:47\n",
      "['1518-08-07', '23:47', 'Guard #659 begins shift']\n",
      "\n",
      "[1518-04-19 00:04] Guard #2917 begins shift\n",
      "1518-04-19 00:04\n",
      "['1518-04-19', '00:04', 'Guard #2917 begins shift']\n",
      "\n",
      "[1518-10-20 00:56] wakes up\n",
      "1518-10-20 00:56\n",
      "['1518-10-20', '00:56', 'wakes up']\n",
      "\n",
      "[1518-03-20 00:03] Guard #1811 begins shift\n",
      "1518-03-20 00:03\n",
      "['1518-03-20', '00:03', 'Guard #1811 begins shift']\n",
      "\n",
      "[1518-05-14 00:01] falls asleep\n",
      "1518-05-14 00:01\n",
      "['1518-05-14', '00:01', 'falls asleep']\n",
      "\n"
     ]
    }
   ],
   "source": [
    "dates = [l.split(' ')[0].split('[')[1] for l in logs]\n",
    "times = [l.split(' ')[1].split(']')[0] for l in logs]\n",
    "datetimes = [d+' '+t for (d,t) in zip(dates, times)]\n",
    "events = [l.split(' ',2)[-1] for l in logs]\n",
    "\n",
    "for i in np.random.choice(range(len(logs)), 5, replace=False):\n",
    "    print logs[i]\n",
    "    params = []\n",
    "    for param in [dates, times, events]:\n",
    "        params.append(param[i])\n",
    "    print datetimes[i]\n",
    "    print params \n",
    "    print ''"
   ]
  },
  {
   "cell_type": "code",
   "execution_count": 16,
   "metadata": {},
   "outputs": [],
   "source": [
    "guard_logs = pd.DataFrame({'Dates': dates,\n",
    "                           'Times': times,\n",
    "                           'Datetime': datetimes,\n",
    "                           'Events': events})"
   ]
  },
  {
   "cell_type": "code",
   "execution_count": 17,
   "metadata": {},
   "outputs": [
    {
     "data": {
      "text/html": [
       "<div>\n",
       "<style scoped>\n",
       "    .dataframe tbody tr th:only-of-type {\n",
       "        vertical-align: middle;\n",
       "    }\n",
       "\n",
       "    .dataframe tbody tr th {\n",
       "        vertical-align: top;\n",
       "    }\n",
       "\n",
       "    .dataframe thead th {\n",
       "        text-align: right;\n",
       "    }\n",
       "</style>\n",
       "<table border=\"1\" class=\"dataframe\">\n",
       "  <thead>\n",
       "    <tr style=\"text-align: right;\">\n",
       "      <th></th>\n",
       "      <th>Dates</th>\n",
       "      <th>Datetime</th>\n",
       "      <th>Events</th>\n",
       "      <th>Times</th>\n",
       "    </tr>\n",
       "  </thead>\n",
       "  <tbody>\n",
       "    <tr>\n",
       "      <th>388</th>\n",
       "      <td>1518-03-04</td>\n",
       "      <td>1518-03-04 00:00</td>\n",
       "      <td>Guard #659 begins shift</td>\n",
       "      <td>00:00</td>\n",
       "    </tr>\n",
       "    <tr>\n",
       "      <th>460</th>\n",
       "      <td>1518-03-04</td>\n",
       "      <td>1518-03-04 00:39</td>\n",
       "      <td>falls asleep</td>\n",
       "      <td>00:39</td>\n",
       "    </tr>\n",
       "    <tr>\n",
       "      <th>463</th>\n",
       "      <td>1518-03-04</td>\n",
       "      <td>1518-03-04 00:47</td>\n",
       "      <td>wakes up</td>\n",
       "      <td>00:47</td>\n",
       "    </tr>\n",
       "    <tr>\n",
       "      <th>85</th>\n",
       "      <td>1518-03-05</td>\n",
       "      <td>1518-03-05 00:04</td>\n",
       "      <td>Guard #2161 begins shift</td>\n",
       "      <td>00:04</td>\n",
       "    </tr>\n",
       "    <tr>\n",
       "      <th>226</th>\n",
       "      <td>1518-03-05</td>\n",
       "      <td>1518-03-05 00:22</td>\n",
       "      <td>falls asleep</td>\n",
       "      <td>00:22</td>\n",
       "    </tr>\n",
       "  </tbody>\n",
       "</table>\n",
       "</div>"
      ],
      "text/plain": [
       "          Dates          Datetime                    Events  Times\n",
       "388  1518-03-04  1518-03-04 00:00   Guard #659 begins shift  00:00\n",
       "460  1518-03-04  1518-03-04 00:39              falls asleep  00:39\n",
       "463  1518-03-04  1518-03-04 00:47                  wakes up  00:47\n",
       "85   1518-03-05  1518-03-05 00:04  Guard #2161 begins shift  00:04\n",
       "226  1518-03-05  1518-03-05 00:22              falls asleep  00:22"
      ]
     },
     "execution_count": 17,
     "metadata": {},
     "output_type": "execute_result"
    }
   ],
   "source": [
    "sorted_logs = guard_logs.sort_values(by='Datetime')\n",
    "sorted_logs.head()"
   ]
  },
  {
   "cell_type": "code",
   "execution_count": 18,
   "metadata": {},
   "outputs": [],
   "source": [
    "# Add guard id\n",
    "guard_ids = []\n",
    "shift_num = 0\n",
    "shift_ids = []\n",
    "guard_id = None\n",
    "for day in sorted_logs.Dates.unique():\n",
    "    for entry in sorted_logs.loc[sorted_logs.Dates == day].Events:\n",
    "        if '#' in entry:\n",
    "            guard_id = entry.split('#')[1].split(' ')[0]\n",
    "            shift_num += 1\n",
    "        guard_ids.append(guard_id)\n",
    "        shift_ids.append(shift_num)\n",
    "        "
   ]
  },
  {
   "cell_type": "code",
   "execution_count": 19,
   "metadata": {},
   "outputs": [
    {
     "data": {
      "text/html": [
       "<div>\n",
       "<style scoped>\n",
       "    .dataframe tbody tr th:only-of-type {\n",
       "        vertical-align: middle;\n",
       "    }\n",
       "\n",
       "    .dataframe tbody tr th {\n",
       "        vertical-align: top;\n",
       "    }\n",
       "\n",
       "    .dataframe thead th {\n",
       "        text-align: right;\n",
       "    }\n",
       "</style>\n",
       "<table border=\"1\" class=\"dataframe\">\n",
       "  <thead>\n",
       "    <tr style=\"text-align: right;\">\n",
       "      <th></th>\n",
       "      <th>Dates</th>\n",
       "      <th>Datetime</th>\n",
       "      <th>Events</th>\n",
       "      <th>Times</th>\n",
       "      <th>Guard_id</th>\n",
       "      <th>Shift_id</th>\n",
       "    </tr>\n",
       "  </thead>\n",
       "  <tbody>\n",
       "    <tr>\n",
       "      <th>388</th>\n",
       "      <td>1518-03-04</td>\n",
       "      <td>1518-03-04 00:00</td>\n",
       "      <td>Guard #659 begins shift</td>\n",
       "      <td>00:00</td>\n",
       "      <td>659</td>\n",
       "      <td>1</td>\n",
       "    </tr>\n",
       "    <tr>\n",
       "      <th>460</th>\n",
       "      <td>1518-03-04</td>\n",
       "      <td>1518-03-04 00:39</td>\n",
       "      <td>falls asleep</td>\n",
       "      <td>00:39</td>\n",
       "      <td>659</td>\n",
       "      <td>1</td>\n",
       "    </tr>\n",
       "    <tr>\n",
       "      <th>463</th>\n",
       "      <td>1518-03-04</td>\n",
       "      <td>1518-03-04 00:47</td>\n",
       "      <td>wakes up</td>\n",
       "      <td>00:47</td>\n",
       "      <td>659</td>\n",
       "      <td>1</td>\n",
       "    </tr>\n",
       "    <tr>\n",
       "      <th>85</th>\n",
       "      <td>1518-03-05</td>\n",
       "      <td>1518-03-05 00:04</td>\n",
       "      <td>Guard #2161 begins shift</td>\n",
       "      <td>00:04</td>\n",
       "      <td>2161</td>\n",
       "      <td>2</td>\n",
       "    </tr>\n",
       "    <tr>\n",
       "      <th>226</th>\n",
       "      <td>1518-03-05</td>\n",
       "      <td>1518-03-05 00:22</td>\n",
       "      <td>falls asleep</td>\n",
       "      <td>00:22</td>\n",
       "      <td>2161</td>\n",
       "      <td>2</td>\n",
       "    </tr>\n",
       "  </tbody>\n",
       "</table>\n",
       "</div>"
      ],
      "text/plain": [
       "          Dates          Datetime                    Events  Times Guard_id  \\\n",
       "388  1518-03-04  1518-03-04 00:00   Guard #659 begins shift  00:00      659   \n",
       "460  1518-03-04  1518-03-04 00:39              falls asleep  00:39      659   \n",
       "463  1518-03-04  1518-03-04 00:47                  wakes up  00:47      659   \n",
       "85   1518-03-05  1518-03-05 00:04  Guard #2161 begins shift  00:04     2161   \n",
       "226  1518-03-05  1518-03-05 00:22              falls asleep  00:22     2161   \n",
       "\n",
       "     Shift_id  \n",
       "388         1  \n",
       "460         1  \n",
       "463         1  \n",
       "85          2  \n",
       "226         2  "
      ]
     },
     "execution_count": 19,
     "metadata": {},
     "output_type": "execute_result"
    }
   ],
   "source": [
    "sorted_logs['Guard_id'] = np.array(guard_ids)\n",
    "sorted_logs['Shift_id'] = np.array(shift_ids)\n",
    "sorted_logs.head()"
   ]
  },
  {
   "cell_type": "code",
   "execution_count": 20,
   "metadata": {},
   "outputs": [],
   "source": [
    "unique_guard_ids = sorted_logs['Guard_id'].unique()\n",
    "number_guards = len(unique_guard_ids)\n",
    "\n",
    "guard_index_dict = {}\n",
    "guard_id_dict = {}\n",
    "\n",
    "for idx in range(number_guards):\n",
    "    guard_index_dict[unique_guard_ids[idx]] = idx\n",
    "    guard_id_dict[idx] = unique_guard_ids[idx]\n",
    "    \n",
    "time_range = 60*2\n",
    "\n",
    "timesheet = np.zeros((number_guards, time_range))"
   ]
  },
  {
   "cell_type": "code",
   "execution_count": 23,
   "metadata": {},
   "outputs": [],
   "source": [
    "timesheet = np.zeros((number_guards, time_range))\n",
    "for shift in sorted_logs.Shift_id.unique():\n",
    "    start_sleep = None\n",
    "    guard_id = sorted_logs.loc[sorted_logs.Shift_id == shift].iloc[0].Guard_id\n",
    "    timesheet_idx = guard_index_dict[guard_id]\n",
    "    for idx, entry in sorted_logs.loc[sorted_logs.Shift_id==shift].iterrows():\n",
    "        assert guard_id == entry.Guard_id\n",
    "        if entry.Events == \"falls asleep\":\n",
    "            start_sleep = entry.Times\n",
    "        if entry.Events == \"wakes up\":\n",
    "            start_hour, start_mins = start_sleep.split(':')\n",
    "            end_hour, end_mins = entry.Times.split(':')\n",
    "            flatten_start = 0\n",
    "            flatten_end = 0\n",
    "            if start_hour == \"00\":\n",
    "                flatten_start += 60\n",
    "            flatten_start += int(start_mins)\n",
    "            if end_hour == \"00\":\n",
    "                flatten_end += 60\n",
    "            flatten_end += int(end_mins)\n",
    "            timesheet[timesheet_idx, flatten_start:flatten_end] += 1"
   ]
  },
  {
   "cell_type": "code",
   "execution_count": 24,
   "metadata": {},
   "outputs": [],
   "source": [
    "total_sleep_time = np.sum(timesheet, 1)\n",
    "sleepiest_guard_index = np.argmax(total_sleep_time)"
   ]
  },
  {
   "cell_type": "code",
   "execution_count": 25,
   "metadata": {},
   "outputs": [
    {
     "data": {
      "text/plain": [
       "2917"
      ]
     },
     "execution_count": 25,
     "metadata": {},
     "output_type": "execute_result"
    }
   ],
   "source": [
    "sleepiest_guard = int(guard_id_dict[sleepiest_guard_index])\n",
    "sleepiest_guard"
   ]
  },
  {
   "cell_type": "code",
   "execution_count": 26,
   "metadata": {},
   "outputs": [
    {
     "data": {
      "text/plain": [
       "25"
      ]
     },
     "execution_count": 26,
     "metadata": {},
     "output_type": "execute_result"
    }
   ],
   "source": [
    "sleepiest_time = np.argmax(timesheet[sleepiest_guard_index, :]) - 60\n",
    "sleepiest_time"
   ]
  },
  {
   "cell_type": "code",
   "execution_count": 27,
   "metadata": {},
   "outputs": [
    {
     "name": "stdout",
     "output_type": "stream",
     "text": [
      "72925\n"
     ]
    }
   ],
   "source": [
    "print (sleepiest_time*sleepiest_guard)"
   ]
  },
  {
   "cell_type": "markdown",
   "metadata": {},
   "source": [
    "# Part Two"
   ]
  },
  {
   "cell_type": "code",
   "execution_count": 40,
   "metadata": {},
   "outputs": [],
   "source": [
    "sleepiest_guard_index, sleepiest_time_position = np.where(timesheet == np.max(timesheet))"
   ]
  },
  {
   "cell_type": "code",
   "execution_count": 42,
   "metadata": {},
   "outputs": [],
   "source": [
    "sleepiest_guard = int(guard_id_dict[sleepiest_guard_index[0]])\n",
    "sleepiest_time = sleepiest_time_position[0] - 60"
   ]
  },
  {
   "cell_type": "code",
   "execution_count": 43,
   "metadata": {},
   "outputs": [
    {
     "data": {
      "text/plain": [
       "1489"
      ]
     },
     "execution_count": 43,
     "metadata": {},
     "output_type": "execute_result"
    }
   ],
   "source": [
    "sleepiest_guard"
   ]
  },
  {
   "cell_type": "code",
   "execution_count": 44,
   "metadata": {},
   "outputs": [
    {
     "name": "stdout",
     "output_type": "stream",
     "text": [
      "49137\n"
     ]
    }
   ],
   "source": [
    "print (sleepiest_time*sleepiest_guard)"
   ]
  },
  {
   "cell_type": "code",
   "execution_count": null,
   "metadata": {},
   "outputs": [],
   "source": []
  }
 ],
 "metadata": {
  "kernelspec": {
   "display_name": "Python 2",
   "language": "python",
   "name": "python2"
  },
  "language_info": {
   "codemirror_mode": {
    "name": "ipython",
    "version": 2
   },
   "file_extension": ".py",
   "mimetype": "text/x-python",
   "name": "python",
   "nbconvert_exporter": "python",
   "pygments_lexer": "ipython2",
   "version": "2.7.12"
  }
 },
 "nbformat": 4,
 "nbformat_minor": 2
}

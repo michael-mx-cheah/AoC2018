{
 "cells": [
  {
   "cell_type": "markdown",
   "metadata": {},
   "source": [
    "# Part One"
   ]
  },
  {
   "cell_type": "code",
   "execution_count": 1,
   "metadata": {},
   "outputs": [],
   "source": [
    "with open(\"input.txt\", \"r\") as f:\n",
    "    claims = [l.strip() for l in f]"
   ]
  },
  {
   "cell_type": "code",
   "execution_count": 7,
   "metadata": {},
   "outputs": [
    {
     "data": {
      "text/plain": [
       "['#1 @ 661,227: 29x11', '#2 @ 391,45: 27x20', '#3 @ 467,241: 23x12']"
      ]
     },
     "execution_count": 7,
     "metadata": {},
     "output_type": "execute_result"
    }
   ],
   "source": [
    "claims[0:3]"
   ]
  },
  {
   "cell_type": "code",
   "execution_count": 20,
   "metadata": {},
   "outputs": [],
   "source": [
    "import numpy as np\n",
    "\n",
    "left = np.array([int(c.split('@')[1].split(',')[0]) for c in claims])\n",
    "top = np.array([int(c.split(':')[0].split(',')[1]) for c in claims])\n",
    "width = np.array([int(c.split(':')[1].split('x')[0]) for c in claims])\n",
    "height = np.array([int(c.split(':')[1].split('x')[1]) for c in claims])"
   ]
  },
  {
   "cell_type": "code",
   "execution_count": 21,
   "metadata": {},
   "outputs": [
    {
     "name": "stdout",
     "output_type": "stream",
     "text": [
      "#825 @ 90,42: 27x12\n",
      "[90, 42, 27, 12]\n",
      "#513 @ 924,625: 21x11\n",
      "[924, 625, 21, 11]\n",
      "#788 @ 556,758: 25x18\n",
      "[556, 758, 25, 18]\n",
      "#880 @ 239,802: 25x28\n",
      "[239, 802, 25, 28]\n",
      "#878 @ 528,175: 15x14\n",
      "[528, 175, 15, 14]\n"
     ]
    }
   ],
   "source": [
    "#Just checking I didn't screw up the parsing\n",
    "for i in np.random.choice(range(len(claims)), 5, replace=False):\n",
    "    print claims[i]\n",
    "    params = []\n",
    "    for param in [left, top, width, height]:\n",
    "        params.append(param[i])\n",
    "    print params "
   ]
  },
  {
   "cell_type": "code",
   "execution_count": 54,
   "metadata": {},
   "outputs": [],
   "source": [
    "# Create canvas\n",
    "vertical_range = top+height\n",
    "horizontal_range = left+width\n",
    "canvas = np.zeros((np.max(vertical_range), np.max(horizontal_range)))"
   ]
  },
  {
   "cell_type": "code",
   "execution_count": 55,
   "metadata": {},
   "outputs": [],
   "source": [
    "for claim_id in range(len(claims)):\n",
    "    x = left[claim_id]\n",
    "    y = top[claim_id]\n",
    "    w = width[claim_id]\n",
    "    h = height[claim_id]\n",
    "    \n",
    "    canvas[y:y+h,x:x+w] += 1"
   ]
  },
  {
   "cell_type": "code",
   "execution_count": 59,
   "metadata": {},
   "outputs": [
    {
     "name": "stdout",
     "output_type": "stream",
     "text": [
      "110546.0\n"
     ]
    }
   ],
   "source": [
    "overlap_canvas = np.zeros_like(canvas)\n",
    "overlap_canvas[canvas>1] = 1 \n",
    "print (np.sum(overlap_canvas))"
   ]
  },
  {
   "cell_type": "code",
   "execution_count": 64,
   "metadata": {},
   "outputs": [
    {
     "data": {
      "image/png": "[encoded data removed]",
      "text/plain": [
       "<Figure size 432x288 with 1 Axes>"
      ]
     },
     "metadata": {
      "needs_background": "light"
     },
     "output_type": "display_data"
    }
   ],
   "source": [
    "# Plotted it out for fun\n",
    "from matplotlib import pyplot as plt\n",
    "plt.figure()\n",
    "plt.imshow(overlap_canvas)\n",
    "plt.show()"
   ]
  },
  {
   "cell_type": "markdown",
   "metadata": {},
   "source": [
    "# Part Two "
   ]
  },
  {
   "cell_type": "code",
   "execution_count": 63,
   "metadata": {},
   "outputs": [
    {
     "name": "stdout",
     "output_type": "stream",
     "text": [
      "819\n"
     ]
    }
   ],
   "source": [
    "for claim_id in range(len(claims)):\n",
    "    x = left[claim_id]\n",
    "    y = top[claim_id]\n",
    "    w = width[claim_id]\n",
    "    h = height[claim_id]\n",
    "    \n",
    "    if np.sum(canvas[y:y+h, x:x+w]) == w*h:\n",
    "        print (claim_id+1)"
   ]
  },
  {
   "cell_type": "code",
   "execution_count": null,
   "metadata": {},
   "outputs": [],
   "source": []
  }
 ],
 "metadata": {
  "kernelspec": {
   "display_name": "Python 2",
   "language": "python",
   "name": "python2"
  },
  "language_info": {
   "codemirror_mode": {
    "name": "ipython",
    "version": 2
   },
   "file_extension": ".py",
   "mimetype": "text/x-python",
   "name": "python",
   "nbconvert_exporter": "python",
   "pygments_lexer": "ipython2",
   "version": "2.7.12"
  }
 },
 "nbformat": 4,
 "nbformat_minor": 2
}

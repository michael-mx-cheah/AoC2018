{
 "cells": [
  {
   "cell_type": "code",
   "execution_count": 45,
   "metadata": {},
   "outputs": [],
   "source": [
    "import numpy as np\n",
    "\n",
    "frequencies = []\n",
    "\n",
    "with open(\"input.txt\", 'r') as f:\n",
    "    frequencies = [l.strip() for l in f]\n",
    "\n",
    "#is_valid_integer = lambda s: not s.isdigit() and len(s)!=0\n",
    "#frequencies = np.array(filter(is_valid_integer, frequencies)).astype(int)\n",
    "frequencies = np.array(frequencies).astype(int)"
   ]
  },
  {
   "cell_type": "code",
   "execution_count": 46,
   "metadata": {},
   "outputs": [
    {
     "name": "stdout",
     "output_type": "stream",
     "text": [
      "Found: 413\n"
     ]
    }
   ],
   "source": [
    "seenFrequencies = set([])\n",
    "currentFrequency = 0\n",
    "no_repeat = True\n",
    "\n",
    "while no_repeat:\n",
    "    for frequency in frequencies:\n",
    "        currentFrequency+=frequency\n",
    "        if currentFrequency in seenFrequencies:\n",
    "            print (\"Found: {:d}\".format(currentFrequency))\n",
    "            no_repeat = False\n",
    "            break\n",
    "        else:\n",
    "            seenFrequencies.add(currentFrequency)"
   ]
  },
  {
   "cell_type": "code",
   "execution_count": null,
   "metadata": {},
   "outputs": [],
   "source": []
  }
 ],
 "metadata": {
  "kernelspec": {
   "display_name": "Python 2",
   "language": "python",
   "name": "python2"
  },
  "language_info": {
   "codemirror_mode": {
    "name": "ipython",
    "version": 2
   },
   "file_extension": ".py",
   "mimetype": "text/x-python",
   "name": "python",
   "nbconvert_exporter": "python",
   "pygments_lexer": "ipython2",
   "version": "2.7.12"
  }
 },
 "nbformat": 4,
 "nbformat_minor": 2
}

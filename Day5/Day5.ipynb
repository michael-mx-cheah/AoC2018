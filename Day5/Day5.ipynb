{
 "cells": [
  {
   "cell_type": "code",
   "execution_count": 135,
   "metadata": {},
   "outputs": [],
   "source": [
    "with open('input.txt', 'r') as f:\n",
    "    ori_polymer = f.readlines()[0].strip()"
   ]
  },
  {
   "cell_type": "code",
   "execution_count": 136,
   "metadata": {},
   "outputs": [],
   "source": [
    "import copy\n",
    "\n",
    "def reactPolymer(polymer):\n",
    "    while True:\n",
    "        num_polarities = 0\n",
    "        polarity_found = False\n",
    "\n",
    "        i=0\n",
    "        for idx in range(len(polymer)):\n",
    "            if idx < len(polymer)-1:\n",
    "                if polymer[idx].swapcase() == polymer[idx+1]:\n",
    "\n",
    "                    polymer = polymer[:idx] + polymer[idx+2:]\n",
    "\n",
    "\n",
    "                    polarity_found = True\n",
    "        if not polarity_found:\n",
    "            break\n",
    "    return len(polymer)\n"
   ]
  },
  {
   "cell_type": "code",
   "execution_count": 137,
   "metadata": {},
   "outputs": [],
   "source": [
    "reacted_length = reactPolymer(copy.copy(ori_polymer))"
   ]
  },
  {
   "cell_type": "code",
   "execution_count": 138,
   "metadata": {},
   "outputs": [],
   "source": [
    "atom_list = list(set(list(polymer.lower())))"
   ]
  },
  {
   "cell_type": "code",
   "execution_count": 139,
   "metadata": {},
   "outputs": [
    {
     "name": "stdout",
     "output_type": "stream",
     "text": [
      "6918\n"
     ]
    }
   ],
   "source": [
    "most_unstable_atom = atom_list[0]\n",
    "shortest_reacted_length = reacted_length\n",
    "polymer_sum = 0\n",
    "for atom in atom_list:\n",
    "    shortened_polymer = copy.copy(ori_polymer)\n",
    "    shortened_polymer = shortened_polymer.replace(atom, '').replace(atom.swapcase(), '')\n",
    "    shortened_polymer = shortened_polymer.replace(atom.swapcase(), '')\n",
    "    polymer_sum += (len(ori_polymer)-len(shortened_polymer))\n",
    "    \n",
    "    shortened_reacted_length = reactPolymer(copy.copy(shortened_polymer))\n",
    "    \n",
    "    if shortened_reacted_length < shortest_reacted_length:\n",
    "        shortest_reacted_length = shortened_reacted_length\n",
    "\n",
    "print shortest_reacted_length"
   ]
  },
  {
   "cell_type": "code",
   "execution_count": null,
   "metadata": {},
   "outputs": [],
   "source": []
  }
 ],
 "metadata": {
  "kernelspec": {
   "display_name": "Python 2",
   "language": "python",
   "name": "python2"
  },
  "language_info": {
   "codemirror_mode": {
    "name": "ipython",
    "version": 2
   },
   "file_extension": ".py",
   "mimetype": "text/x-python",
   "name": "python",
   "nbconvert_exporter": "python",
   "pygments_lexer": "ipython2",
   "version": "2.7.12"
  }
 },
 "nbformat": 4,
 "nbformat_minor": 2
}

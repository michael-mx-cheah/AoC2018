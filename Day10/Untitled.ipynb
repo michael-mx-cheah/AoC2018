{
 "cells": [
  {
   "cell_type": "code",
   "execution_count": 2,
   "metadata": {},
   "outputs": [],
   "source": [
    "with open(\"input.txt\", 'r') as f:\n",
    "    data = [l.strip() for l in f]"
   ]
  },
  {
   "cell_type": "code",
   "execution_count": 8,
   "metadata": {},
   "outputs": [
    {
     "data": {
      "text/plain": [
       "['position=< 21373,  53216> velocity=<-2, -5>',\n",
       " 'position=<-10460, -31621> velocity=< 1,  3>',\n",
       " 'position=< 21353, -42222> velocity=<-2,  4>']"
      ]
     },
     "execution_count": 8,
     "metadata": {},
     "output_type": "execute_result"
    }
   ],
   "source": [
    "data[0:3]"
   ]
  },
  {
   "cell_type": "code",
   "execution_count": 63,
   "metadata": {},
   "outputs": [],
   "source": [
    "pos_x = np.array([int(d.split(\",\")[0].split('<')[1].strip()) for d in data])\n",
    "pos_y = np.array([int(d.split(\",\")[1].split('>')[0].strip()) for d in data])\n",
    "\n",
    "vel_x = np.array([int(d.split(\"=<\")[-1].split(',')[0]) for d in data])\n",
    "vel_y = np.array([int(d.split(\",\")[-1].split('>')[0]) for d in data])"
   ]
  },
  {
   "cell_type": "code",
   "execution_count": 64,
   "metadata": {},
   "outputs": [
    {
     "name": "stdout",
     "output_type": "stream",
     "text": [
      "328\n"
     ]
    }
   ],
   "source": [
    "import numpy as np\n",
    "print len(pos_x)"
   ]
  },
  {
   "cell_type": "code",
   "execution_count": 65,
   "metadata": {},
   "outputs": [
    {
     "name": "stdout",
     "output_type": "stream",
     "text": [
      "21373\n",
      "21371\n"
     ]
    }
   ],
   "source": [
    "a = pos_x\n",
    "print (a[0])\n",
    "a = pos_x + vel_x\n",
    "print (a[0])"
   ]
  },
  {
   "cell_type": "code",
   "execution_count": 117,
   "metadata": {},
   "outputs": [],
   "source": [
    "# class Point:\n",
    "#     def __init__(self, x, y, vx, vy):\n",
    "#         self.x = x\n",
    "#         self.y = y\n",
    "#         self.vx = vx\n",
    "#         self.vy = vy\n",
    "    \n",
    "#     def updatePosition(self):\n",
    "#         self.x += self.vx\n",
    "#         self.y += self.vy\n",
    "#         return x,y\n",
    "        \n",
    "#     def getMaxPos(self):\n",
    "#         return np.max(self.x), np.max(self.y)\n",
    "from matplotlib import pyplot as plt\n",
    "\n",
    "class Sky:\n",
    "    def __init__(self,px, py, vx, vy):\n",
    "        self.px = px\n",
    "        self.py = py\n",
    "        self.vx = vx\n",
    "        self.vy = vy\n",
    "        \n",
    "        self.curr_area = self.get_area()\n",
    "        self.time = 0\n",
    "    \n",
    "    def update_sky(self):\n",
    "        self.px = self.px + self.vx\n",
    "        self.py = self.py + self.vy\n",
    "\n",
    "        a = self.px + self.vx\n",
    "\n",
    "        self.time+=1\n",
    "    \n",
    "    def get_area(self):\n",
    "        return (np.max(self.py)-np.min(self.py))*(np.max(self.px)-np.min(self.px))\n",
    "    \n",
    "    def find_smallest_message(self):\n",
    "        \n",
    "        while True:\n",
    "\n",
    "            self.update_sky()\n",
    "#             if self.time%1000==0:\n",
    "#                 print (self.get_area() <= self.curr_area)\n",
    "#                 print (self.time, self.curr_area)\n",
    "                \n",
    "            new_area = self.get_area()\n",
    "            if new_area < 1000:\n",
    "                print (\"Small area found\")\n",
    "                print (self.curr_area)\n",
    "                print (self.time)\n",
    "                self.curr_area = self.get_area()\n",
    "                self.show_sky()\n",
    "            elif new_area > self.curr_area:\n",
    "                break\n",
    "            else:\n",
    "                self.curr_area = self.get_area()\n",
    "            \n",
    "        print (self.time, self.get_area())\n",
    "        \n",
    "    \n",
    "    def show_sky(self):\n",
    "        sky = np.zeros((np.max(self.py)-np.min(self.py)+1, np.max(self.px)-np.min(self.px)+1))\n",
    "        sky[self.py-np.min(self.py), self.px-np.min(self.px)] = 1\n",
    "        plt.figure()\n",
    "        plt.imshow(sky)\n",
    "        plt.show()"
   ]
  },
  {
   "cell_type": "code",
   "execution_count": 118,
   "metadata": {},
   "outputs": [
    {
     "name": "stdout",
     "output_type": "stream",
     "text": [
      "Small area found\n",
      "1349\n",
      "10605\n"
     ]
    },
    {
     "data": {
      "image/png": "[encoded data removed]",
      "text/plain": [
       "<Figure size 432x288 with 1 Axes>"
      ]
     },
     "metadata": {
      "needs_background": "light"
     },
     "output_type": "display_data"
    },
    {
     "name": "stdout",
     "output_type": "stream",
     "text": [
      "(10606, 1330)\n"
     ]
    },
    {
     "data": {
      "image/png": "[encoded data removed]",
      "text/plain": [
       "<Figure size 432x288 with 1 Axes>"
      ]
     },
     "metadata": {
      "needs_background": "light"
     },
     "output_type": "display_data"
    }
   ],
   "source": [
    "sky = Sky(pos_x, pos_y, vel_x, vel_y)\n",
    "sky.find_smallest_message()\n",
    "sky.show_sky()"
   ]
  },
  {
   "cell_type": "code",
   "execution_count": null,
   "metadata": {},
   "outputs": [],
   "source": [
    "sky = np.zeros((y_range, x_range))\n",
    "for d in data:\n",
    "    "
   ]
  }
 ],
 "metadata": {
  "kernelspec": {
   "display_name": "Python 2",
   "language": "python",
   "name": "python2"
  },
  "language_info": {
   "codemirror_mode": {
    "name": "ipython",
    "version": 2
   },
   "file_extension": ".py",
   "mimetype": "text/x-python",
   "name": "python",
   "nbconvert_exporter": "python",
   "pygments_lexer": "ipython2",
   "version": "2.7.12"
  }
 },
 "nbformat": 4,
 "nbformat_minor": 2
}

{
 "cells": [
  {
   "cell_type": "markdown",
   "metadata": {},
   "source": [
    "# Part One"
   ]
  },
  {
   "cell_type": "code",
   "execution_count": 3,
   "metadata": {},
   "outputs": [],
   "source": [
    "with open(\"input.txt\", \"r\") as f:\n",
    "    boxes = [l.strip() for l in f]"
   ]
  },
  {
   "cell_type": "code",
   "execution_count": 14,
   "metadata": {},
   "outputs": [
    {
     "name": "stdout",
     "output_type": "stream",
     "text": [
      "6000\n"
     ]
    }
   ],
   "source": [
    "twos = 0\n",
    "threes = 0\n",
    "\n",
    "for box in boxes:\n",
    "    two_counted = False\n",
    "    three_counted = False\n",
    "    for letter in set(box):\n",
    "        counts = box.count(letter)\n",
    "        if counts == 2 and not two_counted:\n",
    "            twos+=1\n",
    "            two_counted = True\n",
    "        if counts == 3 and not three_counted:\n",
    "            threes+=1\n",
    "            three_counted = True\n",
    "\n",
    "print (twos*threes)"
   ]
  },
  {
   "cell_type": "markdown",
   "metadata": {},
   "source": [
    "# Part Two"
   ]
  },
  {
   "cell_type": "code",
   "execution_count": 25,
   "metadata": {},
   "outputs": [
    {
     "name": "stdout",
     "output_type": "stream",
     "text": [
      "('pbykrmjmizwhxlqnmasfgtycdv', 'pbykrmjmizwhxlqnwasfgtycdv')\n"
     ]
    }
   ],
   "source": [
    "# Brute force it!!!\n",
    "\n",
    "for box_one_id in range(len(boxes)):\n",
    "    for box_two_id in range(box_one_id+1, len(boxes)):\n",
    "        difference_counter = 0\n",
    "        for (letter_one, letter_two) in zip(boxes[box_one_id], boxes[box_two_id]):\n",
    "            if letter_one != letter_two:\n",
    "                difference_counter += 1\n",
    "#         print (box_one_id, box_two_id, difference_counter)\n",
    "        if difference_counter == 1:\n",
    "            print (boxes[box_one_id], boxes[box_two_id])\n",
    "            break\n",
    "    if difference_counter == 1:\n",
    "        break"
   ]
  },
  {
   "cell_type": "code",
   "execution_count": 29,
   "metadata": {},
   "outputs": [
    {
     "name": "stdout",
     "output_type": "stream",
     "text": [
      "pbykrmjmizwhxlqnasfgtycdv\n"
     ]
    }
   ],
   "source": [
    "answer = \"\"\n",
    "for (l1, l2) in zip(boxes[box_one_id], boxes[box_two_id]):\n",
    "    if l1==l2:\n",
    "        answer+=l1\n",
    "print (answer)"
   ]
  },
  {
   "cell_type": "code",
   "execution_count": null,
   "metadata": {},
   "outputs": [],
   "source": []
  }
 ],
 "metadata": {
  "kernelspec": {
   "display_name": "Python 2",
   "language": "python",
   "name": "python2"
  },
  "language_info": {
   "codemirror_mode": {
    "name": "ipython",
    "version": 2
   },
   "file_extension": ".py",
   "mimetype": "text/x-python",
   "name": "python",
   "nbconvert_exporter": "python",
   "pygments_lexer": "ipython2",
   "version": "2.7.12"
  }
 },
 "nbformat": 4,
 "nbformat_minor": 2
}
